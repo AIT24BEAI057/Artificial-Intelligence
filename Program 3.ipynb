{
 "cells": [
  {
   "cell_type": "code",
   "execution_count": 2,
   "id": "46be6154-af9b-4ae0-8e59-5d3a5bac9ae9",
   "metadata": {},
   "outputs": [
    {
     "data": {
      "text/plain": [
       "['A', 'B', 'D', 'F', 'G']"
      ]
     },
     "execution_count": 2,
     "metadata": {},
     "output_type": "execute_result"
    }
   ],
   "source": [
    "import heapq\n",
    " \n",
    "class Node:\n",
    "   def __init__(self, name, g=0, h=0, parent=None):\n",
    "       self.name = name\n",
    "       self.g = g  # Actual cost\n",
    "       self.h = h  # Heuristic cost\n",
    "       self.f = g + h  # Total cost\n",
    "       self.parent = parent\n",
    " \n",
    "   def __lt__(self, other):\n",
    "       return self.f < other.f\n",
    " \n",
    "def astar_search(graph, heuristics, start, goal):\n",
    "   open_list = []\n",
    "   closed_set = set()\n",
    " \n",
    "   start_node = Node(start, g=0, h=heuristics[start])\n",
    "   heapq.heappush(open_list, start_node)\n",
    " \n",
    "   while open_list:\n",
    "       current_node = heapq.heappop(open_list)\n",
    " \n",
    "       if current_node.name == goal:\n",
    "           path = []\n",
    "           while current_node:\n",
    "               path.append(current_node.name)\n",
    "               current_node = current_node.parent\n",
    "           return path[::-1]\n",
    " \n",
    "       closed_set.add(current_node.name)\n",
    " \n",
    "       for neighbor, cost in graph[current_node.name]:\n",
    "           if neighbor in closed_set:\n",
    "               continue\n",
    " \n",
    "           g_cost = current_node.g + cost\n",
    "           h_cost = heuristics[neighbor]\n",
    "           neighbor_node = Node(neighbor, g=g_cost, h=h_cost, parent=current_node)\n",
    " \n",
    "           if any(open_node.name == neighbor and open_node.f <= neighbor_node.f for open_node in open_list):\n",
    "               continue\n",
    " \n",
    "           heapq.heappush(open_list, neighbor_node)\n",
    " \n",
    "   return None\n",
    " \n",
    "# Graph: Node -> [(Neighbor, Cost)]\n",
    "graph = {\n",
    "   'A': [('B', 1), ('C', 4)],\n",
    "   'B': [('D', 3)],\n",
    "   'C': [('E', 5)],\n",
    "   'D': [('F', 2), ('G', 4)],\n",
    "   'E': [('G', 3)],\n",
    "   'F': [('G', 1)],\n",
    "   'G': []\n",
    "}\n",
    " \n",
    "# Heuristics from the image\n",
    "heuristics = {\n",
    "   'A': 5,\n",
    "   'B': 6,\n",
    "   'C': 4,\n",
    "   'D': 3,\n",
    "   'E': 3,\n",
    "   'F': 1,\n",
    "   'G': 0\n",
    "}\n",
    " \n",
    "# Perform A* Search\n",
    "path = astar_search(graph, heuristics, 'A', 'G')\n",
    "path\n",
    " \n",
    " "
   ]
  },
  {
   "cell_type": "code",
   "execution_count": null,
   "id": "e0aecca5-fdeb-4ed4-b9d1-263c054ec142",
   "metadata": {},
   "outputs": [],
   "source": []
  }
 ],
 "metadata": {
  "kernelspec": {
   "display_name": "Python [conda env:base] *",
   "language": "python",
   "name": "conda-base-py"
  },
  "language_info": {
   "codemirror_mode": {
    "name": "ipython",
    "version": 3
   },
   "file_extension": ".py",
   "mimetype": "text/x-python",
   "name": "python",
   "nbconvert_exporter": "python",
   "pygments_lexer": "ipython3",
   "version": "3.12.7"
  }
 },
 "nbformat": 4,
 "nbformat_minor": 5
}
